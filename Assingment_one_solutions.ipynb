{
 "cells": [
  {
   "cell_type": "code",
   "id": "initial_id",
   "metadata": {
    "collapsed": true,
    "ExecuteTime": {
     "end_time": "2025-08-05T18:06:26.731183Z",
     "start_time": "2025-08-05T18:06:22.904Z"
    }
   },
   "source": [
    "import numpy as np\n",
    "from PIL import Image"
   ],
   "outputs": [],
   "execution_count": 5
  },
  {
   "metadata": {
    "ExecuteTime": {
     "end_time": "2025-08-05T18:06:28.603577Z",
     "start_time": "2025-08-05T18:06:28.585432Z"
    }
   },
   "cell_type": "code",
   "source": [
    "# Q1:\n",
    "\n",
    "# (a)\n",
    "arr = np.array([1, 2, 3, 6, 4, 5])\n",
    "reversed_arr = arr[::-1]\n",
    "\n",
    "# (b)\n",
    "array1 = np.array([[1, 2, 3], [2, 4, 5], [1, 2, 3]])\n",
    "flatten_method1 = array1.flatten()\n",
    "flatten_method2 = array1.ravel()\n",
    "\n",
    "# (c)\n",
    "arr1 = np.array([[1, 2], [3, 4]])\n",
    "arr2 = np.array([[1, 2], [3, 4]])\n",
    "comparison_equal = np.array_equal(arr1, arr2)\n",
    "element_wise_comparison = arr1 == arr2\n",
    "\n",
    "# (d)\n",
    "# i.\n",
    "x = np.array([1,2,3,4,5,1,2,1,1,1])\n",
    "unique_x, counts_x = np.unique(x, return_counts=True)\n",
    "most_frequent_x = unique_x[np.argmax(counts_x)]\n",
    "indices_x = np.where(x == most_frequent_x)[0]\n",
    "\n",
    "# ii.\n",
    "y = np.array([1, 1, 1, 2, 3, 4, 2, 4, 3, 3])\n",
    "unique_y, counts_y = np.unique(y, return_counts=True)\n",
    "most_frequent_y = unique_y[np.argmax(counts_y)]\n",
    "indices_y = np.where(y == most_frequent_y)[0]\n",
    "\n",
    "# (e)\n",
    "gfg = np.matrix('[4, 1, 9; 12, 3, 1; 4, 5, 6]')\n",
    "sum_all = np.sum(gfg)\n",
    "sum_row_wise = np.sum(gfg, axis=1)\n",
    "sum_column_wise = np.sum(gfg, axis=0)\n",
    "\n",
    "# (f)\n",
    "n_array = np.array([[55, 25, 15],[30, 44, 2],[11, 45, 77]])\n",
    "sum_diagonal = np.trace(n_array)\n",
    "eigenvalues, eigenvectors = np.linalg.eig(n_array)\n",
    "inverse_matrix = np.linalg.inv(n_array)\n",
    "determinant = np.linalg.det(n_array)\n",
    "\n",
    "# (g)\n",
    "# i.\n",
    "p1 = np.array([[1, 2], [2, 3]])\n",
    "q1 = np.array([[4, 5], [6, 7]])\n",
    "multiply1 = np.dot(p1, q1)\n",
    "covariance1 = np.cov(p1.flatten(), q1.flatten())\n",
    "\n",
    "# ii.\n",
    "p2 = np.array([[1, 2], [2, 3], [4, 5]])\n",
    "q2 = np.array([[4, 5, 1], [6, 7, 2]])\n",
    "multiply2 = np.dot(p2, q2)\n",
    "covariance2 = np.cov(p2.flatten(), q2.flatten())\n",
    "\n",
    "# (h)\n",
    "x = np.array([[2, 3, 4], [3, 2, 9]])\n",
    "y = np.array([[1, 5, 0], [5, 10, 3]])\n",
    "inner_product = np.inner(x, y)\n",
    "outer_product = np.outer(x, y)\n",
    "cartesian_product = np.array(np.meshgrid(x.flatten(), y.flatten())).T.reshape(-1, 2)\n",
    "\n"
   ],
   "id": "751f9d5271693add",
   "outputs": [],
   "execution_count": 6
  },
  {
   "metadata": {
    "ExecuteTime": {
     "end_time": "2025-08-05T18:07:13.084187Z",
     "start_time": "2025-08-05T18:07:13.070954Z"
    }
   },
   "cell_type": "code",
   "source": [
    "# Q2:\n",
    "\n",
    "# (a)\n",
    "array = np.array([[1, -2, 3],[-4, 5, -6]])\n",
    "\n",
    "# i.\n",
    "absolute_values = np.abs(array)\n",
    "\n",
    "# ii.\n",
    "flattened = array.flatten()\n",
    "percentiles_flat = np.percentile(flattened, [25, 50, 75])\n",
    "percentiles_columns = np.percentile(array, [25, 50, 75], axis=0)\n",
    "percentiles_rows = np.percentile(array, [25, 50, 75], axis=1)\n",
    "\n",
    "# iii.\n",
    "mean_flat = np.mean(flattened)\n",
    "median_flat = np.median(flattened)\n",
    "std_flat = np.std(flattened)\n",
    "mean_columns = np.mean(array, axis=0)\n",
    "median_columns = np.median(array, axis=0)\n",
    "std_columns = np.std(array, axis=0)\n",
    "mean_rows = np.mean(array, axis=1)\n",
    "median_rows = np.median(array, axis=1)\n",
    "std_rows = np.std(array, axis=1)\n",
    "\n",
    "# (b)\n",
    "a = np.array([-1.8, -1.6, -0.5, 0.5, 1.6, 1.8, 3.0])\n",
    "floor_values = np.floor(a)\n",
    "ceiling_values = np.ceil(a)\n",
    "truncated_values = np.trunc(a)\n",
    "rounded_values = np.round(a)\n"
   ],
   "id": "1218c8372d0a97b3",
   "outputs": [],
   "execution_count": 7
  },
  {
   "metadata": {
    "ExecuteTime": {
     "end_time": "2025-08-05T18:07:40.069159Z",
     "start_time": "2025-08-05T18:07:40.061906Z"
    }
   },
   "cell_type": "code",
   "source": [
    "# Q3:\n",
    "\n",
    "# (a)\n",
    "array = np.array([10, 52, 62, 16, 16, 54, 453])\n",
    "sorted_array = np.sort(array)\n",
    "sorted_indices = np.argsort(array)\n",
    "four_smallest = np.partition(array, 3)[:4]\n",
    "five_largest = np.partition(array, -5)[-5:]\n",
    "\n",
    "# (b)\n",
    "array = np.array([1.0, 1.2, 2.2, 2.0, 3.0, 2.0])\n",
    "integer_elements = array[array == array.astype(int)]\n",
    "float_elements = array[array != array.astype(int)]\n"
   ],
   "id": "e59586fb3a4a80d",
   "outputs": [],
   "execution_count": 8
  },
  {
   "metadata": {
    "ExecuteTime": {
     "end_time": "2025-08-05T18:08:04.745195Z",
     "start_time": "2025-08-05T18:08:04.736237Z"
    }
   },
   "cell_type": "code",
   "source": [
    "# Q4\n",
    "def img_to_array(path):\n",
    "    img = Image.open(path)\n",
    "    img_array = np.array(img)\n",
    "\n",
    "    if len(img_array.shape) == 3:\n",
    "        np.savetxt('rgb_image.txt', img_array.reshape(-1, img_array.shape[-1]), fmt='%d')\n",
    "        print(\"RGB image saved as rgb_image.txt\")\n",
    "    else:\n",
    "        np.savetxt('gray_image.txt', img_array, fmt='%d')\n",
    "        print(\"Grayscale image saved as gray_image.txt\")\n",
    "\n",
    "    return img_array\n",
    "\n",
    "def load_saved_image(filename, original_shape=None):\n",
    "    if 'rgb' in filename:\n",
    "        loaded_array = np.loadtxt(filename, dtype=int)\n",
    "        if original_shape:\n",
    "            loaded_array = loaded_array.reshape(original_shape)\n",
    "    else:\n",
    "        loaded_array = np.loadtxt(filename, dtype=int)\n",
    "\n",
    "    return loaded_array"
   ],
   "id": "abc4e1717531a5e7",
   "outputs": [],
   "execution_count": 9
  }
 ],
 "metadata": {
  "kernelspec": {
   "display_name": "Python 3",
   "language": "python",
   "name": "python3"
  },
  "language_info": {
   "codemirror_mode": {
    "name": "ipython",
    "version": 2
   },
   "file_extension": ".py",
   "mimetype": "text/x-python",
   "name": "python",
   "nbconvert_exporter": "python",
   "pygments_lexer": "ipython2",
   "version": "2.7.6"
  }
 },
 "nbformat": 4,
 "nbformat_minor": 5
}
